{
 "cells": [
  {
   "cell_type": "code",
   "execution_count": 262,
   "id": "c1e7a21a",
   "metadata": {},
   "outputs": [],
   "source": [
    "import sys\n",
    "import os\n",
    "import pandas as pd\n",
    "import random\n",
    "\n",
    "sys.path.append(os.path.abspath('../src'))\n",
    "\n",
    "from models import Player, Team, Individual\n",
    "from utils import create_valid_team, create_valid_individual, generate_initial_population\n",
    "from crossover import (\n",
    "    team_swap_crossover,\n",
    "    player_swap_crossover,\n",
    "    uniform_team_crossover,\n",
    "    position_based_crossover,\n",
    "    gene_level_crossover\n",
    ")\n",
    "from mutation import (\n",
    "    random_player_mutation,\n",
    "    swap_players_between_teams,\n",
    "    replace_team_mutation,\n",
    "    expensive_player_mutation,\n",
    "    cross_position_mutation,\n",
    "    forward_reset_mutation,\n",
    "    rotate_teams_mutation\n",
    ")\n",
    "from selection import (\n",
    "    tournament_selection,\n",
    "    roulette_wheel_selection,\n",
    "    truncation_selection,\n",
    "    rank_selection,\n",
    "    stochastic_universal_sampling,\n",
    "    elitism,\n",
    "    select_parents\n",
    ")\n",
    "\n",
    "from main import run_ga_from_notebook\n"
   ]
  },
  {
   "cell_type": "code",
   "execution_count": 263,
   "id": "d1833c6f",
   "metadata": {},
   "outputs": [],
   "source": [
    "players_csv = pd.read_csv('../data/players.csv')"
   ]
  },
  {
   "cell_type": "code",
   "execution_count": 264,
   "id": "70c34184",
   "metadata": {},
   "outputs": [
    {
     "name": "stdout",
     "output_type": "stream",
     "text": [
      "Número de jogadores carregados: 35\n"
     ]
    }
   ],
   "source": [
    "players = []\n",
    "for idx, row in players_csv.iterrows():\n",
    "    p = Player(\n",
    "        player_id=idx + 1,\n",
    "        name=row['Name'],\n",
    "        position=row['Position'],\n",
    "        skill=row['Skill'],\n",
    "        cost=row['Salary (€M)']\n",
    "    )\n",
    "\n",
    "    players.append(p)\n",
    "\n",
    "print(f\"Número de jogadores carregados: {len(players)}\")"
   ]
  },
  {
   "cell_type": "code",
   "execution_count": 265,
   "id": "79ca48d2",
   "metadata": {},
   "outputs": [
    {
     "name": "stdout",
     "output_type": "stream",
     "text": [
      "['Blake Henderson (GK) - Skill: 87 | €M95', 'Lucas Bennett (DEF) - Skill: 85 | €M90', 'Daniel Foster (DEF) - Skill: 90 | €M110', 'Gavin Richardson (MID) - Skill: 87 | €M95', 'Ashton Phillips (MID) - Skill: 90 | €M110', 'Elijah Sanders (FWD) - Skill: 93 | €M140', 'Adrian Collins (FWD) - Skill: 85 | €M90']\n",
      "Válida: True\n",
      "Custo total: 730\n",
      "Skill média: 88.14285714285714\n"
     ]
    }
   ],
   "source": [
    "used_ids = set()\n",
    "team = create_valid_team(players, used_ids)\n",
    "\n",
    "if team:\n",
    "    print([str(p) for p in team.players])\n",
    "    print(\"Válida:\", team.is_valid())\n",
    "    print(\"Custo total:\", team.total_cost())\n",
    "    print(\"Skill média:\", team.average_skill())\n",
    "else:\n",
    "    print(\"⚠️ Não foi possível gerar uma equipa válida.\")"
   ]
  },
  {
   "cell_type": "code",
   "execution_count": 266,
   "id": "da2fcd95",
   "metadata": {},
   "outputs": [
    {
     "name": "stdout",
     "output_type": "stream",
     "text": [
      "Indivíduo válido:  True\n",
      "Fitness (desvio padrão negativo): -1.0781692722350371\n"
     ]
    }
   ],
   "source": [
    "ind = create_valid_individual(players)\n",
    "if ind is not None:\n",
    "    print(\"Indivíduo válido: \", ind.is_valid())\n",
    "    print(\"Fitness (desvio padrão negativo):\", ind.fitness())\n",
    "else:\n",
    "    print(\"⚠️ Não foi possível criar um indivíduo válido.\")"
   ]
  },
  {
   "cell_type": "code",
   "execution_count": 267,
   "id": "613f19a6",
   "metadata": {},
   "outputs": [
    {
     "name": "stdout",
     "output_type": "stream",
     "text": [
      "Pais criados com sucesso.\n"
     ]
    }
   ],
   "source": [
    "parent1 = create_valid_individual(players)\n",
    "parent2 = create_valid_individual(players)\n",
    "\n",
    "if not parent1 or not parent2:\n",
    "    print(\"Erro: não foi possível gerar pais válidos.\")\n",
    "else:\n",
    "    print(\"Pais criados com sucesso.\")\n"
   ]
  },
  {
   "cell_type": "code",
   "execution_count": 268,
   "id": "ed6ff73e",
   "metadata": {},
   "outputs": [
    {
     "name": "stdout",
     "output_type": "stream",
     "text": [
      "Team Swap -> Fitness Child1: -1.240144823669182 | Child2: -0.6663945022680319\n",
      "Child1 válido? True\n",
      "Child2 válido? True\n"
     ]
    }
   ],
   "source": [
    "child1, child2 = team_swap_crossover(parent1, parent2)\n",
    "print(\"Team Swap -> Fitness Child1:\", child1.fitness(), \"| Child2:\", child2.fitness())\n",
    "print(\"Child1 válido?\", child1.is_valid())\n",
    "print(\"Child2 válido?\", child2.is_valid())"
   ]
  },
  {
   "cell_type": "code",
   "execution_count": 269,
   "id": "d9456651",
   "metadata": {},
   "outputs": [
    {
     "name": "stdout",
     "output_type": "stream",
     "text": [
      "Player Swap -> Fitness Child1: -1.332789004536067 | Child2: -0.5952190473142756\n",
      "Child1 válido? True\n",
      "Child2 válido? True\n"
     ]
    }
   ],
   "source": [
    "child1, child2 = player_swap_crossover(parent1, parent2)\n",
    "print(\"Player Swap -> Fitness Child1:\", child1.fitness(), \"| Child2:\", child2.fitness())\n",
    "print(\"Child1 válido?\", child1.is_valid())\n",
    "print(\"Child2 válido?\", child2.is_valid())"
   ]
  },
  {
   "cell_type": "code",
   "execution_count": 270,
   "id": "f71a3299",
   "metadata": {},
   "outputs": [
    {
     "name": "stdout",
     "output_type": "stream",
     "text": [
      "Uniform Crossover -> Fitness: -1.2506324930422437\n",
      "Válido: True\n"
     ]
    }
   ],
   "source": [
    "child = uniform_team_crossover(parent1, parent2)\n",
    "print(\"Uniform Crossover -> Fitness:\", child.fitness())\n",
    "print(\"Válido:\", child.is_valid())"
   ]
  },
  {
   "cell_type": "code",
   "execution_count": 271,
   "id": "cd216cc4",
   "metadata": {},
   "outputs": [
    {
     "name": "stdout",
     "output_type": "stream",
     "text": [
      "Position-Based Crossover -> Fitness: -1.3018040857022322\n",
      "Válido: False\n"
     ]
    }
   ],
   "source": [
    "child = position_based_crossover(parent1, parent2)\n",
    "print(\"Position-Based Crossover -> Fitness:\", child.fitness())\n",
    "print(\"Válido:\", child.is_valid())"
   ]
  },
  {
   "cell_type": "code",
   "execution_count": 272,
   "id": "19c3b8e5",
   "metadata": {},
   "outputs": [
    {
     "name": "stdout",
     "output_type": "stream",
     "text": [
      "Gene-Level Crossover -> Fitness: -2.074923160613178\n",
      "Válido: False\n"
     ]
    }
   ],
   "source": [
    "child = gene_level_crossover(parent1, parent2)\n",
    "print(\"Gene-Level Crossover -> Fitness:\", child.fitness())\n",
    "print(\"Válido:\", child.is_valid())"
   ]
  },
  {
   "cell_type": "code",
   "execution_count": 273,
   "id": "c29a43ca",
   "metadata": {},
   "outputs": [
    {
     "name": "stdout",
     "output_type": "stream",
     "text": [
      "Indivíduo base gerado com sucesso.\n"
     ]
    }
   ],
   "source": [
    "individual_mut = create_valid_individual(players)\n",
    "if individual_mut is None:\n",
    "    print(\"⚠️ Não foi possível gerar um indivíduo válido.\")\n",
    "else:\n",
    "    print(\"Indivíduo base gerado com sucesso.\")"
   ]
  },
  {
   "cell_type": "code",
   "execution_count": 274,
   "id": "a8163838",
   "metadata": {},
   "outputs": [
    {
     "name": "stdout",
     "output_type": "stream",
     "text": [
      "Antes: -1.1117186547624969\n",
      "Depois: -1.1117186547624969\n",
      "Válido: True\n"
     ]
    }
   ],
   "source": [
    "mutated = random_player_mutation(individual_mut, players)\n",
    "print(\"Antes:\", individual_mut.fitness())\n",
    "print(\"Depois:\", mutated.fitness())\n",
    "print(\"Válido:\", mutated.is_valid())"
   ]
  },
  {
   "cell_type": "code",
   "execution_count": 275,
   "id": "88724f4d",
   "metadata": {},
   "outputs": [
    {
     "name": "stdout",
     "output_type": "stream",
     "text": [
      "Antes: -1.1117186547624969\n",
      "Depois: -1.1299268533305802\n",
      "Válido: True\n"
     ]
    }
   ],
   "source": [
    "mutated = swap_players_between_teams(individual_mut)\n",
    "print(\"Antes:\", individual_mut.fitness())\n",
    "print(\"Depois:\", mutated.fitness())\n",
    "print(\"Válido:\", mutated.is_valid())"
   ]
  },
  {
   "cell_type": "code",
   "execution_count": 276,
   "id": "85a1800a",
   "metadata": {},
   "outputs": [
    {
     "name": "stdout",
     "output_type": "stream",
     "text": [
      "Antes: -1.1117186547624969\n",
      "Depois: -1.1117186547624969\n",
      "Válido: True\n"
     ]
    }
   ],
   "source": [
    "mutated = replace_team_mutation(individual_mut, players)\n",
    "print(\"Antes:\", individual_mut.fitness())\n",
    "print(\"Depois:\", mutated.fitness())\n",
    "print(\"Válido:\", mutated.is_valid())"
   ]
  },
  {
   "cell_type": "code",
   "execution_count": 277,
   "id": "8aae765c",
   "metadata": {},
   "outputs": [
    {
     "name": "stdout",
     "output_type": "stream",
     "text": [
      "Antes: -1.1117186547624969\n",
      "Depois: -1.1117186547624969\n",
      "Válido: True\n"
     ]
    }
   ],
   "source": [
    "mutated = expensive_player_mutation(individual_mut, players)\n",
    "print(\"Antes:\", individual_mut.fitness())\n",
    "print(\"Depois:\", mutated.fitness())\n",
    "print(\"Válido:\", mutated.is_valid())"
   ]
  },
  {
   "cell_type": "code",
   "execution_count": 278,
   "id": "e10acef6",
   "metadata": {},
   "outputs": [
    {
     "name": "stdout",
     "output_type": "stream",
     "text": [
      "Antes: -1.1117186547624969\n",
      "Depois: -1.1263087625386854\n",
      "Válido: True\n"
     ]
    }
   ],
   "source": [
    "mutated = cross_position_mutation(individual_mut)\n",
    "print(\"Antes:\", individual_mut.fitness())\n",
    "print(\"Depois:\", mutated.fitness())\n",
    "print(\"Válido:\", mutated.is_valid())"
   ]
  },
  {
   "cell_type": "code",
   "execution_count": 279,
   "id": "13079520",
   "metadata": {},
   "outputs": [
    {
     "name": "stdout",
     "output_type": "stream",
     "text": [
      "Antes: -1.1117186547624969\n",
      "Depois: -1.1117186547624969\n",
      "Válido: True\n"
     ]
    }
   ],
   "source": [
    "mutated = forward_reset_mutation(individual_mut, players)\n",
    "print(\"Antes:\", individual_mut.fitness())\n",
    "print(\"Depois:\", mutated.fitness())\n",
    "print(\"Válido:\", mutated.is_valid())"
   ]
  },
  {
   "cell_type": "code",
   "execution_count": 280,
   "id": "2130e3b4",
   "metadata": {},
   "outputs": [
    {
     "name": "stdout",
     "output_type": "stream",
     "text": [
      "Antes: -1.1117186547624969\n",
      "Depois: -1.1117186547624969\n",
      "Válido: True\n"
     ]
    }
   ],
   "source": [
    "mutated = rotate_teams_mutation(individual_mut)\n",
    "print(\"Antes:\", individual_mut.fitness())\n",
    "print(\"Depois:\", mutated.fitness())\n",
    "print(\"Válido:\", mutated.is_valid())"
   ]
  },
  {
   "cell_type": "code",
   "execution_count": 281,
   "id": "a3cc696d",
   "metadata": {},
   "outputs": [],
   "source": [
    "population = generate_initial_population(10, players)\n",
    "fitnesses = [ind.fitness() for ind in population]"
   ]
  },
  {
   "cell_type": "code",
   "execution_count": 282,
   "id": "79a02ba9",
   "metadata": {},
   "outputs": [
    {
     "name": "stdout",
     "output_type": "stream",
     "text": [
      "Torneio -> Fitness: -1.0435418495856956\n"
     ]
    }
   ],
   "source": [
    "parent = tournament_selection(population, fitnesses)\n",
    "print(\"Torneio -> Fitness:\", parent.fitness())"
   ]
  },
  {
   "cell_type": "code",
   "execution_count": 283,
   "id": "07842a7e",
   "metadata": {},
   "outputs": [
    {
     "name": "stdout",
     "output_type": "stream",
     "text": [
      "Roleta -> Fitness: -1.4439175735420902\n"
     ]
    }
   ],
   "source": [
    "parent = roulette_wheel_selection(population, fitnesses)\n",
    "print(\"Roleta -> Fitness:\", parent.fitness())"
   ]
  },
  {
   "cell_type": "code",
   "execution_count": 284,
   "id": "f5dbf9c1",
   "metadata": {},
   "outputs": [
    {
     "name": "stdout",
     "output_type": "stream",
     "text": [
      "Truncamento -> Fitness: -0.6845227743263387\n"
     ]
    }
   ],
   "source": [
    "parent = truncation_selection(population, fitnesses, top_percent=0.3)\n",
    "print(\"Truncamento -> Fitness:\", parent.fitness())"
   ]
  },
  {
   "cell_type": "code",
   "execution_count": 285,
   "id": "4e504f99",
   "metadata": {},
   "outputs": [
    {
     "name": "stdout",
     "output_type": "stream",
     "text": [
      "SUS -> Fitness: -0.6845227743263387\n"
     ]
    }
   ],
   "source": [
    "parent = stochastic_universal_sampling(population, fitnesses)\n",
    "print(\"SUS -> Fitness:\", parent.fitness())"
   ]
  },
  {
   "cell_type": "code",
   "execution_count": 286,
   "id": "f57b5836",
   "metadata": {},
   "outputs": [
    {
     "name": "stdout",
     "output_type": "stream",
     "text": [
      "Elites -> Fitnesses: [-0.6845227743263387, -0.7740695533796581]\n"
     ]
    }
   ],
   "source": [
    "elites = elitism(population, fitnesses, num_elites=2)\n",
    "print(\"Elites -> Fitnesses:\", [e.fitness() for e in elites])"
   ]
  },
  {
   "cell_type": "code",
   "execution_count": 287,
   "id": "84a67a5a",
   "metadata": {},
   "outputs": [
    {
     "name": "stdout",
     "output_type": "stream",
     "text": [
      "select_parents (Torneio) -> -1.0513353995985193 -1.1654901745354942\n"
     ]
    }
   ],
   "source": [
    "p1, p2 = select_parents(population, fitnesses, method=\"tournament\")\n",
    "print(\"select_parents (Torneio) ->\", p1.fitness(), p2.fitness())"
   ]
  }
 ],
 "metadata": {
  "kernelspec": {
   "display_name": "Python 3",
   "language": "python",
   "name": "python3"
  },
  "language_info": {
   "codemirror_mode": {
    "name": "ipython",
    "version": 3
   },
   "file_extension": ".py",
   "mimetype": "text/x-python",
   "name": "python",
   "nbconvert_exporter": "python",
   "pygments_lexer": "ipython3",
   "version": "3.11.0"
  }
 },
 "nbformat": 4,
 "nbformat_minor": 5
}
