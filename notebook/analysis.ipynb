{
 "cells": [
  {
   "cell_type": "code",
   "execution_count": 1,
   "id": "c1e7a21a",
   "metadata": {},
   "outputs": [],
   "source": [
    "import sys\n",
    "import os\n",
    "import pandas as pd\n",
    "import random\n",
    "\n",
    "sys.path.append(os.path.abspath('../src'))\n",
    "\n",
    "from models import Player, Team, Individual\n",
    "from utils import create_valid_team, create_valid_individual, generate_initial_population\n",
    "from crossover import (\n",
    "    team_swap_crossover,\n",
    "    player_swap_crossover,\n",
    "    uniform_team_crossover,\n",
    "    position_based_crossover,\n",
    "    gene_level_crossover\n",
    ")\n",
    "from mutation import (\n",
    "    random_player_mutation,\n",
    "    swap_players_between_teams,\n",
    "    replace_team_mutation,\n",
    "    expensive_player_mutation,\n",
    "    cross_position_mutation,\n",
    "    forward_reset_mutation,\n",
    "    rotate_teams_mutation\n",
    ")\n",
    "from selection import (\n",
    "    tournament_selection,\n",
    "    roulette_wheel_selection,\n",
    "    truncation_selection,\n",
    "    rank_selection,\n",
    "    stochastic_universal_sampling,\n",
    "    elitism,\n",
    "    select_parents\n",
    ")\n",
    "\n",
    "from main import main "
   ]
  },
  {
   "cell_type": "code",
   "execution_count": 2,
   "id": "d1833c6f",
   "metadata": {},
   "outputs": [],
   "source": [
    "players_csv = pd.read_csv('../data/players.csv')"
   ]
  },
  {
   "cell_type": "code",
   "execution_count": 3,
   "id": "70c34184",
   "metadata": {},
   "outputs": [
    {
     "name": "stdout",
     "output_type": "stream",
     "text": [
      "Número de jogadores carregados: 35\n"
     ]
    }
   ],
   "source": [
    "players = []\n",
    "for idx, row in players_csv.iterrows():\n",
    "    p = Player(\n",
    "        player_id=idx + 1,\n",
    "        name=row['Name'],\n",
    "        position=row['Position'],\n",
    "        skill=row['Skill'],\n",
    "        cost=row['Salary (€M)']\n",
    "    )\n",
    "\n",
    "    players.append(p)\n",
    "\n",
    "print(f\"Número de jogadores carregados: {len(players)}\")"
   ]
  },
  {
   "cell_type": "code",
   "execution_count": 4,
   "id": "8c632e3e",
   "metadata": {},
   "outputs": [
    {
     "name": "stdout",
     "output_type": "stream",
     "text": [
      "✅ Resultado final escrito em 'results/logs/melhor_individuo.txt'\n"
     ]
    }
   ],
   "source": [
    "best_ind, history = main(players, \n",
    "                         pop_size=20, \n",
    "                         generations=30, \n",
    "                         elite_count=2,\n",
    "                         selection_method=\"tournament\",\n",
    "                         crossover_rate=0.9,\n",
    "                         mutation_rate=0.8,\n",
    "                         verbose = False)"
   ]
  }
 ],
 "metadata": {
  "kernelspec": {
   "display_name": "Python 3",
   "language": "python",
   "name": "python3"
  },
  "language_info": {
   "codemirror_mode": {
    "name": "ipython",
    "version": 3
   },
   "file_extension": ".py",
   "mimetype": "text/x-python",
   "name": "python",
   "nbconvert_exporter": "python",
   "pygments_lexer": "ipython3",
   "version": "3.11.0"
  }
 },
 "nbformat": 4,
 "nbformat_minor": 5
}
