{
 "cells": [
  {
   "cell_type": "code",
   "execution_count": 155,
   "id": "c1e7a21a",
   "metadata": {},
   "outputs": [],
   "source": [
    "import sys\n",
    "import os\n",
    "import pandas as pd\n",
    "import random\n",
    "\n",
    "sys.path.append(os.path.abspath('../src'))\n",
    "\n",
    "from models import Player, Team, Individual"
   ]
  },
  {
   "cell_type": "code",
   "execution_count": 156,
   "id": "d1833c6f",
   "metadata": {},
   "outputs": [],
   "source": [
    "players_csv = pd.read_csv('../data/players.csv')"
   ]
  },
  {
   "cell_type": "code",
   "execution_count": 157,
   "id": "70c34184",
   "metadata": {},
   "outputs": [
    {
     "name": "stdout",
     "output_type": "stream",
     "text": [
      "Número de jogadores carregados: 35\n"
     ]
    }
   ],
   "source": [
    "players = []\n",
    "for idx, row in players_csv.iterrows():\n",
    "    p = Player(\n",
    "        player_id=idx + 1,\n",
    "        name=row['Name'],\n",
    "        position=row['Position'],\n",
    "        skill=row['Skill'],\n",
    "        cost=row['Salary (€M)']\n",
    "    )\n",
    "\n",
    "    players.append(p)\n",
    "\n",
    "print(f\"Número de jogadores carregados: {len(players)}\")"
   ]
  },
  {
   "cell_type": "code",
   "execution_count": 158,
   "id": "e86a7d1d",
   "metadata": {},
   "outputs": [],
   "source": [
    "def create_valid_team(players):\n",
    "    team = []\n",
    "    used_ids = set()\n",
    "    try:\n",
    "        for pos, count in [('GK',1), ('DEF',2), ('MID',2), ('FWD',2)]:\n",
    "            options = [p for p in players if p.position == pos and p.id not in used_ids]\n",
    "            selected = random.sample(options, count)\n",
    "            team.extend(selected)\n",
    "            used_ids.update(p.id for p in selected)\n",
    "        new_team = Team(team)\n",
    "        if new_team.total_cost() <= 750:\n",
    "            return new_team\n",
    "        else:\n",
    "            return create_valid_team(players) \n",
    "    except:\n",
    "        return None"
   ]
  },
  {
   "cell_type": "code",
   "execution_count": 159,
   "id": "79ca48d2",
   "metadata": {},
   "outputs": [
    {
     "name": "stdout",
     "output_type": "stream",
     "text": [
      "[Jordan Smith (GK) - Skill: 88 | €M100, Brayden Hughes (DEF) - Skill: 87 | €M100, Daniel Foster (DEF) - Skill: 90 | €M110, Austin Torres (MID) - Skill: 82 | €M80, Gavin Richardson (MID) - Skill: 87 | €M95, Adrian Collins (FWD) - Skill: 85 | €M90, Tyler Jenkins (FWD) - Skill: 80 | €M70]\n",
      "Válida: True\n",
      "Custo total: 645\n",
      "Skill média: 85.57142857142857\n"
     ]
    }
   ],
   "source": [
    "team = create_valid_team(players)\n",
    "print(team.players)\n",
    "print(\"Válida:\", team.is_valid())\n",
    "print(\"Custo total:\", team.total_cost())\n",
    "print(\"Skill média:\", team.average_skill())"
   ]
  },
  {
   "cell_type": "code",
   "execution_count": 160,
   "id": "3833a34a",
   "metadata": {},
   "outputs": [],
   "source": [
    "def create_valid_individual(players):\n",
    "    all_ids = set()\n",
    "    teams = []\n",
    "    for _ in range(5):\n",
    "        team = None\n",
    "        tries = 0\n",
    "        while not team and tries < 10:\n",
    "            team = create_valid_team([p for p in players if p.id not in all_ids])\n",
    "            tries += 1\n",
    "        if team:\n",
    "            teams.append(team)\n",
    "            all_ids.update(p.id for p in team.players)\n",
    "    return Individual(teams) if len(teams) == 5 else None"
   ]
  },
  {
   "cell_type": "code",
   "execution_count": 161,
   "id": "da2fcd95",
   "metadata": {},
   "outputs": [
    {
     "name": "stdout",
     "output_type": "stream",
     "text": [
      "Indivíduo válido:  True\n",
      "Fitness (desvio padrão negativo): -1.0667516972911095\n"
     ]
    }
   ],
   "source": [
    "ind = create_valid_individual(players)\n",
    "if ind is not None:\n",
    "    print(\"Indivíduo válido: \", ind.is_valid())\n",
    "    print(\"Fitness (desvio padrão negativo):\", ind.fitness())\n",
    "else:\n",
    "    print(\"⚠️ Não foi possível criar um indivíduo válido.\")"
   ]
  }
 ],
 "metadata": {
  "kernelspec": {
   "display_name": "Python 3",
   "language": "python",
   "name": "python3"
  },
  "language_info": {
   "codemirror_mode": {
    "name": "ipython",
    "version": 3
   },
   "file_extension": ".py",
   "mimetype": "text/x-python",
   "name": "python",
   "nbconvert_exporter": "python",
   "pygments_lexer": "ipython3",
   "version": "3.11.0"
  }
 },
 "nbformat": 4,
 "nbformat_minor": 5
}
