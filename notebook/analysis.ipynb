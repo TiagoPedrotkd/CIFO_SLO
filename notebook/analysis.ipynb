{
 "cells": [
  {
   "cell_type": "code",
   "execution_count": 504,
   "id": "c1e7a21a",
   "metadata": {},
   "outputs": [],
   "source": [
    "import sys\n",
    "import os\n",
    "import pandas as pd\n",
    "import random\n",
    "\n",
    "sys.path.append(os.path.abspath('../src'))\n",
    "\n",
    "from models import Player, Team, Individual\n",
    "from utils import create_valid_team, create_valid_individual, generate_initial_population\n",
    "from crossover import (\n",
    "    team_swap_crossover,\n",
    "    player_swap_crossover,\n",
    "    uniform_team_crossover,\n",
    "    position_based_crossover,\n",
    "    gene_level_crossover\n",
    ")\n",
    "from mutation import (\n",
    "    random_player_mutation,\n",
    "    swap_players_between_teams,\n",
    "    replace_team_mutation,\n",
    "    expensive_player_mutation,\n",
    "    cross_position_mutation,\n",
    "    forward_reset_mutation,\n",
    "    rotate_teams_mutation\n",
    ")\n",
    "from selection import (\n",
    "    tournament_selection,\n",
    "    roulette_wheel_selection,\n",
    "    truncation_selection,\n",
    "    rank_selection,\n",
    "    stochastic_universal_sampling,\n",
    "    elitism,\n",
    "    select_parents\n",
    ")\n",
    "\n",
    "from main import main "
   ]
  },
  {
   "cell_type": "code",
   "execution_count": 505,
   "id": "d1833c6f",
   "metadata": {},
   "outputs": [],
   "source": [
    "players_csv = pd.read_csv('../data/players.csv')"
   ]
  },
  {
   "cell_type": "code",
   "execution_count": 506,
   "id": "70c34184",
   "metadata": {},
   "outputs": [
    {
     "name": "stdout",
     "output_type": "stream",
     "text": [
      "Número de jogadores carregados: 35\n"
     ]
    }
   ],
   "source": [
    "players = []\n",
    "for idx, row in players_csv.iterrows():\n",
    "    p = Player(\n",
    "        player_id=idx + 1,\n",
    "        name=row['Name'],\n",
    "        position=row['Position'],\n",
    "        skill=row['Skill'],\n",
    "        cost=row['Salary (€M)']\n",
    "    )\n",
    "\n",
    "    players.append(p)\n",
    "\n",
    "print(f\"Número de jogadores carregados: {len(players)}\")"
   ]
  },
  {
   "cell_type": "code",
   "execution_count": 507,
   "id": "79ca48d2",
   "metadata": {},
   "outputs": [
    {
     "name": "stdout",
     "output_type": "stream",
     "text": [
      "['Jordan Smith (GK) - Skill: 88 | €M100', 'Ethan Howard (DEF) - Skill: 80 | €M70', 'Jaxon Griffin (DEF) - Skill: 79 | €M65', 'Nathan Wright (MID) - Skill: 92 | €M120', 'Austin Torres (MID) - Skill: 82 | €M80', 'Elijah Sanders (FWD) - Skill: 93 | €M140', 'Tyler Jenkins (FWD) - Skill: 80 | €M70']\n",
      "Válida: True\n",
      "Custo total: 645\n",
      "Skill média: 84.85714285714286\n"
     ]
    }
   ],
   "source": [
    "used_ids = set()\n",
    "team = create_valid_team(players, used_ids)\n",
    "\n",
    "if team:\n",
    "    print([str(p) for p in team.players])\n",
    "    print(\"Válida:\", team.is_valid())\n",
    "    print(\"Custo total:\", team.total_cost())\n",
    "    print(\"Skill média:\", team.average_skill())\n",
    "else:\n",
    "    print(\"⚠️ Não foi possível gerar uma equipa válida.\")"
   ]
  },
  {
   "cell_type": "code",
   "execution_count": 508,
   "id": "da2fcd95",
   "metadata": {},
   "outputs": [
    {
     "name": "stdout",
     "output_type": "stream",
     "text": [
      "Indivíduo válido:  True\n",
      "Fitness (desvio padrão negativo): -0.7948815853282034\n"
     ]
    }
   ],
   "source": [
    "ind = create_valid_individual(players)\n",
    "if ind is not None:\n",
    "    print(\"Indivíduo válido: \", ind.is_valid())\n",
    "    print(\"Fitness (desvio padrão negativo):\", ind.fitness())\n",
    "else:\n",
    "    print(\"⚠️ Não foi possível criar um indivíduo válido.\")"
   ]
  },
  {
   "cell_type": "code",
   "execution_count": 509,
   "id": "613f19a6",
   "metadata": {},
   "outputs": [
    {
     "name": "stdout",
     "output_type": "stream",
     "text": [
      "Pais criados com sucesso.\n"
     ]
    }
   ],
   "source": [
    "parent1 = create_valid_individual(players)\n",
    "parent2 = create_valid_individual(players)\n",
    "\n",
    "if not parent1 or not parent2:\n",
    "    print(\"Erro: não foi possível gerar pais válidos.\")\n",
    "else:\n",
    "    print(\"Pais criados com sucesso.\")\n"
   ]
  },
  {
   "cell_type": "code",
   "execution_count": 510,
   "id": "ed6ff73e",
   "metadata": {},
   "outputs": [
    {
     "name": "stdout",
     "output_type": "stream",
     "text": [
      "Team Swap -> Fitness Child1: -0.42378277069117926 | Child2: -1.4917459979664727\n",
      "Child1 válido? True\n",
      "Child2 válido? True\n"
     ]
    }
   ],
   "source": [
    "if parent1 is None or parent2 is None:\n",
    "    print(\"❌ Um dos pais é None — falha ao gerar indivíduo válido.\")\n",
    "else:\n",
    "    child1, child2 = team_swap_crossover(parent1, parent2)\n",
    "    print(\"Team Swap -> Fitness Child1:\", child1.fitness(), \"| Child2:\", child2.fitness())\n",
    "    print(\"Child1 válido?\", child1.is_valid())\n",
    "    print(\"Child2 válido?\", child2.is_valid())"
   ]
  },
  {
   "cell_type": "code",
   "execution_count": 511,
   "id": "d9456651",
   "metadata": {},
   "outputs": [
    {
     "name": "stdout",
     "output_type": "stream",
     "text": [
      "Player Swap -> Fitness Child1: -1.059842113770938 | Child2: -9999\n",
      "Child1 válido? True\n",
      "Child2 válido? False\n"
     ]
    }
   ],
   "source": [
    "if parent1 is None or parent2 is None:\n",
    "    print(\"❌ Um dos pais é None — falha ao gerar indivíduo válido.\")\n",
    "else:\n",
    "    child1, child2 = player_swap_crossover(parent1, parent2)\n",
    "    print(\"Player Swap -> Fitness Child1:\", child1.fitness(), \"| Child2:\", child2.fitness())\n",
    "    print(\"Child1 válido?\", child1.is_valid())\n",
    "    print(\"Child2 válido?\", child2.is_valid())"
   ]
  },
  {
   "cell_type": "code",
   "execution_count": 512,
   "id": "f71a3299",
   "metadata": {},
   "outputs": [
    {
     "name": "stdout",
     "output_type": "stream",
     "text": [
      "Uniform Crossover -> Fitness: -1.396789321323466\n",
      "Válido: True\n"
     ]
    }
   ],
   "source": [
    "if parent1 is None or parent2 is None:\n",
    "    print(\"❌ Um dos pais é None — falha ao gerar indivíduo válido.\")\n",
    "else:\n",
    "    child = uniform_team_crossover(parent1, parent2)\n",
    "    print(\"Uniform Crossover -> Fitness:\", child.fitness())\n",
    "    print(\"Válido:\", child.is_valid())"
   ]
  },
  {
   "cell_type": "code",
   "execution_count": 513,
   "id": "cd216cc4",
   "metadata": {},
   "outputs": [
    {
     "name": "stdout",
     "output_type": "stream",
     "text": [
      "Position-Based Crossover -> Fitness: -9999\n",
      "Válido: False\n"
     ]
    }
   ],
   "source": [
    "if parent1 is None or parent2 is None:\n",
    "    print(\"❌ Um dos pais é None — falha ao gerar indivíduo válido.\")\n",
    "else:\n",
    "    child = position_based_crossover(parent1, parent2)\n",
    "    print(\"Position-Based Crossover -> Fitness:\", child.fitness())\n",
    "    print(\"Válido:\", child.is_valid())"
   ]
  },
  {
   "cell_type": "code",
   "execution_count": 514,
   "id": "19c3b8e5",
   "metadata": {},
   "outputs": [
    {
     "name": "stdout",
     "output_type": "stream",
     "text": [
      "Gene-Level Crossover -> Fitness: -1.3862296537952234\n",
      "Válido: True\n"
     ]
    }
   ],
   "source": [
    "if parent1 is None or parent2 is None:\n",
    "    print(\"❌ Um dos pais é None — falha ao gerar indivíduo válido.\")\n",
    "else:\n",
    "    child = gene_level_crossover(parent1, parent2)\n",
    "    print(\"Gene-Level Crossover -> Fitness:\", child.fitness())\n",
    "    print(\"Válido:\", child.is_valid())"
   ]
  },
  {
   "cell_type": "code",
   "execution_count": 515,
   "id": "c29a43ca",
   "metadata": {},
   "outputs": [
    {
     "name": "stdout",
     "output_type": "stream",
     "text": [
      "Indivíduo base gerado com sucesso.\n"
     ]
    }
   ],
   "source": [
    "individual_mut = create_valid_individual(players)\n",
    "if individual_mut is None:\n",
    "    print(\"⚠️ Não foi possível gerar um indivíduo válido.\")\n",
    "else:\n",
    "    print(\"Indivíduo base gerado com sucesso.\")"
   ]
  },
  {
   "cell_type": "code",
   "execution_count": 516,
   "id": "a8163838",
   "metadata": {},
   "outputs": [
    {
     "name": "stdout",
     "output_type": "stream",
     "text": [
      "Antes: -1.0356896548795327\n",
      "Depois: -1.0356896548795327\n",
      "Válido: True\n"
     ]
    }
   ],
   "source": [
    "mutated = random_player_mutation(individual_mut, players)\n",
    "print(\"Antes:\", individual_mut.fitness())\n",
    "print(\"Depois:\", mutated.fitness())\n",
    "print(\"Válido:\", mutated.is_valid())"
   ]
  },
  {
   "cell_type": "code",
   "execution_count": 517,
   "id": "88724f4d",
   "metadata": {},
   "outputs": [
    {
     "name": "stdout",
     "output_type": "stream",
     "text": [
      "Antes: -1.0356896548795327\n",
      "Depois: -1.182870945399112\n",
      "Válido: True\n"
     ]
    }
   ],
   "source": [
    "mutated = swap_players_between_teams(individual_mut)\n",
    "print(\"Antes:\", individual_mut.fitness())\n",
    "print(\"Depois:\", mutated.fitness())\n",
    "print(\"Válido:\", mutated.is_valid())"
   ]
  },
  {
   "cell_type": "code",
   "execution_count": 518,
   "id": "85a1800a",
   "metadata": {},
   "outputs": [
    {
     "name": "stdout",
     "output_type": "stream",
     "text": [
      "Antes: -1.0356896548795327\n",
      "Depois: -1.0356896548795327\n",
      "Válido: True\n"
     ]
    }
   ],
   "source": [
    "mutated = replace_team_mutation(individual_mut, players)\n",
    "print(\"Antes:\", individual_mut.fitness())\n",
    "print(\"Depois:\", mutated.fitness())\n",
    "print(\"Válido:\", mutated.is_valid())"
   ]
  },
  {
   "cell_type": "code",
   "execution_count": 519,
   "id": "8aae765c",
   "metadata": {},
   "outputs": [
    {
     "name": "stdout",
     "output_type": "stream",
     "text": [
      "Antes: -1.0356896548795327\n",
      "Depois: -1.0356896548795327\n",
      "Válido: True\n"
     ]
    }
   ],
   "source": [
    "mutated = expensive_player_mutation(individual_mut, players)\n",
    "print(\"Antes:\", individual_mut.fitness())\n",
    "print(\"Depois:\", mutated.fitness())\n",
    "print(\"Válido:\", mutated.is_valid())"
   ]
  },
  {
   "cell_type": "code",
   "execution_count": 520,
   "id": "e10acef6",
   "metadata": {},
   "outputs": [
    {
     "name": "stdout",
     "output_type": "stream",
     "text": [
      "Antes: -1.0356896548795327\n",
      "Depois: -1.2758350606723468\n",
      "Válido: True\n"
     ]
    }
   ],
   "source": [
    "mutated = cross_position_mutation(individual_mut)\n",
    "print(\"Antes:\", individual_mut.fitness())\n",
    "print(\"Depois:\", mutated.fitness())\n",
    "print(\"Válido:\", mutated.is_valid())"
   ]
  },
  {
   "cell_type": "code",
   "execution_count": 521,
   "id": "13079520",
   "metadata": {},
   "outputs": [
    {
     "name": "stdout",
     "output_type": "stream",
     "text": [
      "Antes: -1.0356896548795327\n",
      "Depois: -1.0356896548795327\n",
      "Válido: True\n"
     ]
    }
   ],
   "source": [
    "mutated = forward_reset_mutation(individual_mut, players)\n",
    "print(\"Antes:\", individual_mut.fitness())\n",
    "print(\"Depois:\", mutated.fitness())\n",
    "print(\"Válido:\", mutated.is_valid())"
   ]
  },
  {
   "cell_type": "code",
   "execution_count": 522,
   "id": "2130e3b4",
   "metadata": {},
   "outputs": [
    {
     "name": "stdout",
     "output_type": "stream",
     "text": [
      "Antes: -1.0356896548795327\n",
      "Depois: -1.0356896548795327\n",
      "Válido: True\n"
     ]
    }
   ],
   "source": [
    "mutated = rotate_teams_mutation(individual_mut)\n",
    "print(\"Antes:\", individual_mut.fitness())\n",
    "print(\"Depois:\", mutated.fitness())\n",
    "print(\"Válido:\", mutated.is_valid())"
   ]
  },
  {
   "cell_type": "code",
   "execution_count": 523,
   "id": "a3cc696d",
   "metadata": {},
   "outputs": [],
   "source": [
    "population = generate_initial_population(10, players)\n",
    "fitnesses = [ind.fitness() for ind in population]"
   ]
  },
  {
   "cell_type": "code",
   "execution_count": 524,
   "id": "79a02ba9",
   "metadata": {},
   "outputs": [
    {
     "name": "stdout",
     "output_type": "stream",
     "text": [
      "Torneio -> Fitness: -0.9536182439016362\n"
     ]
    }
   ],
   "source": [
    "parent = tournament_selection(population, fitnesses)\n",
    "print(\"Torneio -> Fitness:\", parent.fitness())"
   ]
  },
  {
   "cell_type": "code",
   "execution_count": 525,
   "id": "07842a7e",
   "metadata": {},
   "outputs": [
    {
     "name": "stdout",
     "output_type": "stream",
     "text": [
      "Roleta -> Fitness: -0.9536182439016362\n"
     ]
    }
   ],
   "source": [
    "parent = roulette_wheel_selection(population, fitnesses)\n",
    "print(\"Roleta -> Fitness:\", parent.fitness())"
   ]
  },
  {
   "cell_type": "code",
   "execution_count": 526,
   "id": "f5dbf9c1",
   "metadata": {},
   "outputs": [
    {
     "name": "stdout",
     "output_type": "stream",
     "text": [
      "Truncamento -> Fitness: -0.7948815853282005\n"
     ]
    }
   ],
   "source": [
    "parent = truncation_selection(population, fitnesses, top_percent=0.3)\n",
    "print(\"Truncamento -> Fitness:\", parent.fitness())"
   ]
  },
  {
   "cell_type": "code",
   "execution_count": 527,
   "id": "4e504f99",
   "metadata": {},
   "outputs": [
    {
     "name": "stdout",
     "output_type": "stream",
     "text": [
      "SUS -> Fitness: -0.8778452283278404\n"
     ]
    }
   ],
   "source": [
    "parent = stochastic_universal_sampling(population, fitnesses)\n",
    "print(\"SUS -> Fitness:\", parent.fitness())"
   ]
  },
  {
   "cell_type": "code",
   "execution_count": 528,
   "id": "f57b5836",
   "metadata": {},
   "outputs": [
    {
     "name": "stdout",
     "output_type": "stream",
     "text": [
      "Elites -> Fitnesses: [-0.4179639668093641, -0.7948815853282005]\n"
     ]
    }
   ],
   "source": [
    "elites = elitism(population, fitnesses, num_elites=2)\n",
    "print(\"Elites -> Fitnesses:\", [e.fitness() for e in elites])"
   ]
  },
  {
   "cell_type": "code",
   "execution_count": 529,
   "id": "84a67a5a",
   "metadata": {},
   "outputs": [
    {
     "name": "stdout",
     "output_type": "stream",
     "text": [
      "select_parents (Torneio) -> -0.8916849448186975 -0.8916849448186975\n"
     ]
    }
   ],
   "source": [
    "p1, p2 = select_parents(population, fitnesses, method=\"tournament\")\n",
    "print(\"select_parents (Torneio) ->\", p1.fitness(), p2.fitness())"
   ]
  },
  {
   "cell_type": "code",
   "execution_count": 530,
   "id": "8c632e3e",
   "metadata": {},
   "outputs": [
    {
     "name": "stdout",
     "output_type": "stream",
     "text": [
      "Geração 0 - Melhor fitness: 947.7838\n",
      "Geração 1 - Melhor fitness: 972.0058\n",
      "Geração 2 - Melhor fitness: 977.1429\n",
      "Geração 3 - Melhor fitness: 977.1429\n",
      "Geração 4 - Melhor fitness: 977.1429\n",
      "Geração 5 - Melhor fitness: 981.9298\n",
      "Geração 6 - Melhor fitness: 982.8571\n",
      "Geração 7 - Melhor fitness: 982.8571\n",
      "Geração 8 - Melhor fitness: 982.8571\n",
      "Geração 9 - Melhor fitness: 982.8571\n",
      "Geração 10 - Melhor fitness: 987.2225\n",
      "Geração 11 - Melhor fitness: 987.2225\n",
      "Geração 12 - Melhor fitness: 987.2225\n",
      "Geração 13 - Melhor fitness: 987.2225\n",
      "Geração 14 - Melhor fitness: 987.2225\n",
      "Geração 15 - Melhor fitness: 989.3096\n",
      "Geração 16 - Melhor fitness: 989.3096\n",
      "Geração 17 - Melhor fitness: 989.3096\n",
      "Geração 18 - Melhor fitness: 990.9649\n",
      "Geração 19 - Melhor fitness: 990.9649\n",
      "Geração 20 - Melhor fitness: 990.9649\n",
      "Geração 21 - Melhor fitness: 994.2857\n",
      "Geração 22 - Melhor fitness: 994.2857\n",
      "Geração 23 - Melhor fitness: 1000.0000\n",
      "Geração 24 - Melhor fitness: 1000.0000\n",
      "Geração 25 - Melhor fitness: 1000.0000\n",
      "Geração 26 - Melhor fitness: 1000.0000\n",
      "Geração 27 - Melhor fitness: 1000.0000\n",
      "Geração 28 - Melhor fitness: 1000.0000\n",
      "Geração 29 - Melhor fitness: 1000.0000\n",
      "\n",
      "Melhor indivíduo final:\n",
      "Fitness: 1000.0\n",
      "\n",
      "Equipa 1 - Média: 87.00 | Custo total: €704.00\n",
      "Jordan Smith (GK) - Skill: 88, Custo: 100\n",
      "Caleb Fisher (DEF) - Skill: 84, Custo: 85\n",
      "Maxwell Flores (DEF) - Skill: 81, Custo: 72\n",
      "Hunter Cooper (MID) - Skill: 83, Custo: 85\n",
      "Nathan Wright (MID) - Skill: 92, Custo: 120\n",
      "Sebastian Perry (FWD) - Skill: 95, Custo: 150\n",
      "Zachary Nelson (FWD) - Skill: 86, Custo: 92\n",
      "\n",
      "Equipa 2 - Média: 87.00 | Custo total: €710.00\n",
      "Ryan Mitchell (GK) - Skill: 83, Custo: 85\n",
      "Ethan Howard (DEF) - Skill: 80, Custo: 70\n",
      "Lucas Bennett (DEF) - Skill: 85, Custo: 90\n",
      "Connor Hayes (MID) - Skill: 89, Custo: 105\n",
      "Bentley Rivera (MID) - Skill: 88, Custo: 100\n",
      "Landon Powell (FWD) - Skill: 89, Custo: 110\n",
      "Sebastian Perry (FWD) - Skill: 95, Custo: 150\n",
      "\n",
      "Equipa 3 - Média: 87.00 | Custo total: €705.00\n",
      "Alex Carter (GK) - Skill: 85, Custo: 90\n",
      "Jaxon Griffin (DEF) - Skill: 79, Custo: 65\n",
      "Daniel Foster (DEF) - Skill: 90, Custo: 110\n",
      "Spencer Ward (MID) - Skill: 84, Custo: 85\n",
      "Bentley Rivera (MID) - Skill: 88, Custo: 100\n",
      "Julian Scott (FWD) - Skill: 92, Custo: 130\n",
      "Colton Gray (FWD) - Skill: 91, Custo: 125\n",
      "\n",
      "Equipa 4 - Média: 87.00 | Custo total: €710.00\n",
      "Jordan Smith (GK) - Skill: 88, Custo: 100\n",
      "Brayden Hughes (DEF) - Skill: 87, Custo: 100\n",
      "Logan Brooks (DEF) - Skill: 86, Custo: 95\n",
      "Austin Torres (MID) - Skill: 82, Custo: 80\n",
      "Dylan Morgan (MID) - Skill: 91, Custo: 115\n",
      "Sebastian Perry (FWD) - Skill: 95, Custo: 150\n",
      "Tyler Jenkins (FWD) - Skill: 80, Custo: 70\n",
      "\n",
      "Equipa 5 - Média: 87.00 | Custo total: €705.00\n",
      "Blake Henderson (GK) - Skill: 87, Custo: 95\n",
      "Brayden Hughes (DEF) - Skill: 87, Custo: 100\n",
      "Lucas Bennett (DEF) - Skill: 85, Custo: 90\n",
      "Austin Torres (MID) - Skill: 82, Custo: 80\n",
      "Ashton Phillips (MID) - Skill: 90, Custo: 110\n",
      "Adrian Collins (FWD) - Skill: 85, Custo: 90\n",
      "Elijah Sanders (FWD) - Skill: 93, Custo: 140\n"
     ]
    }
   ],
   "source": [
    "best_ind, history = main(players, \n",
    "                         pop_size=20, \n",
    "                         generations=30, \n",
    "                         elite_count=2,\n",
    "                         selection_method=\"tournament\",\n",
    "                         crossover_rate=0.9,\n",
    "                         mutation_rate=0.8)"
   ]
  }
 ],
 "metadata": {
  "kernelspec": {
   "display_name": "Python 3",
   "language": "python",
   "name": "python3"
  },
  "language_info": {
   "codemirror_mode": {
    "name": "ipython",
    "version": 3
   },
   "file_extension": ".py",
   "mimetype": "text/x-python",
   "name": "python",
   "nbconvert_exporter": "python",
   "pygments_lexer": "ipython3",
   "version": "3.11.0"
  }
 },
 "nbformat": 4,
 "nbformat_minor": 5
}
